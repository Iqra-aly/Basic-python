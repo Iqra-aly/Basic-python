{
 "cells": [
  {
   "cell_type": "code",
   "execution_count": 20,
   "id": "83a61077-3da1-4607-bc24-aec151e94365",
   "metadata": {},
   "outputs": [
    {
     "name": "stdout",
     "output_type": "stream",
     "text": [
      "('apple', 'banana', 'cherry')\n",
      "cherry\n",
      "banana\n",
      "apple\n",
      "banana\n",
      "cherry\n",
      "apple\n"
     ]
    }
   ],
   "source": [
    "thislist =(\"apple\",\"banana\",\"cherry\")\n",
    "print(thislist)\n",
    "print(thislist[2])\n",
    "print(thislist[1])\n",
    "print(thislist[0])\n",
    "print(thislist[-2])\n",
    "print(thislist[-1])\n",
    "print(thislist[-3])\n"
   ]
  },
  {
   "cell_type": "code",
   "execution_count": 42,
   "id": "6f94a21b-c046-4b19-8929-0d89baf42871",
   "metadata": {},
   "outputs": [
    {
     "data": {
      "text/plain": [
       "['cherry', 'orange', 'apple', 'mango']"
      ]
     },
     "execution_count": 42,
     "metadata": {},
     "output_type": "execute_result"
    }
   ],
   "source": [
    "list = [\"cherry\",\"apple\",\"mango\"]\n",
    "list.insert(1,\"orange\")\n",
    "list"
   ]
  },
  {
   "cell_type": "code",
   "execution_count": 43,
   "id": "5c8aeaa1-a8f6-4c8e-b7fc-bd39552570d2",
   "metadata": {},
   "outputs": [
    {
     "data": {
      "text/plain": [
       "['cherry', 'apple', 'mango', 'orange']"
      ]
     },
     "execution_count": 43,
     "metadata": {},
     "output_type": "execute_result"
    }
   ],
   "source": [
    "list = [\"cherry\",\"apple\",\"mango\"]\n",
    "list.append(\"orange\")\n",
    "list"
   ]
  },
  {
   "cell_type": "code",
   "execution_count": 48,
   "id": "0f3f5661-5d15-4a84-b10f-d40a7e09b553",
   "metadata": {},
   "outputs": [
    {
     "data": {
      "text/plain": [
       "'apple'"
      ]
     },
     "execution_count": 48,
     "metadata": {},
     "output_type": "execute_result"
    }
   ],
   "source": [
    "tuple = [\"cherry\",\"apple\",\"mango\"]\n",
    "tuple[-2]"
   ]
  },
  {
   "cell_type": "code",
   "execution_count": 53,
   "id": "40371522-63c2-42c7-8c52-93ef89c582dc",
   "metadata": {},
   "outputs": [
    {
     "name": "stdout",
     "output_type": "stream",
     "text": [
      "banana\n",
      "kiwi\n",
      "apple\n"
     ]
    }
   ],
   "source": [
    "set={\"apple\",\"banana\",\"kiwi\"}\n",
    "for x in set:\n",
    "    print(x)"
   ]
  },
  {
   "cell_type": "code",
   "execution_count": 56,
   "id": "6f3858ca-90be-46fb-8aa3-f7142fc43e70",
   "metadata": {},
   "outputs": [
    {
     "name": "stdout",
     "output_type": "stream",
     "text": [
      "{'kiwi', 'apple'}\n"
     ]
    }
   ],
   "source": [
    "set={\"apple\",\"banana\",\"kiwi\"}\n",
    "set.remove(\"banana\")\n",
    "print(set)"
   ]
  },
  {
   "cell_type": "code",
   "execution_count": 58,
   "id": "cbaa6e5d-5a7a-4b32-94c1-f66489bbe40b",
   "metadata": {},
   "outputs": [
    {
     "name": "stdout",
     "output_type": "stream",
     "text": [
      "{'name': 'iqra'}\n"
     ]
    }
   ],
   "source": [
    "dict = { \"name\":\"iqra\",\"class\":\"bsit\"}\n",
    "dict.pop(\"class\")\n",
    "print(dict)\n"
   ]
  },
  {
   "cell_type": "code",
   "execution_count": 5,
   "id": "ddbea76c-8d22-4911-b342-d073649a88fb",
   "metadata": {},
   "outputs": [
    {
     "name": "stdin",
     "output_type": "stream",
     "text": [
      "enter a number 10\n",
      "enter a number 20\n",
      "enter a number 30\n",
      "enter a number 50\n"
     ]
    },
    {
     "name": "stdout",
     "output_type": "stream",
     "text": [
      "the sum is : 80\n",
      "smallest is: 10\n"
     ]
    }
   ],
   "source": [
    "##task 1\n",
    "num1=int(input(\"enter a number\"))\n",
    "num2=int(input(\"enter a number\"))\n",
    "num3=int(input(\"enter a number\"))\n",
    "num4=int(input(\"enter a number\"))\n",
    "print(\"the sum is :\",num1+num2+num4)\n",
    "if (num1<num2<num3<num4):\n",
    "    small = num1\n",
    "    print(\"smallest is:\",num1)\n",
    "elif(num2<num1<num3<num4):\n",
    "    small = num2\n",
    "    print(\"smallest is:\",num2)\n",
    "elif(num3<num4<num2<num1):\n",
    "    small = num3\n",
    "    print(\"smallest is\",num3)\n",
    "elif(num4<num1<num2<num3):\n",
    "    small = num4\n",
    "    print(\"smallest is\",num4)\n"
   ]
  },
  {
   "cell_type": "code",
   "execution_count": 22,
   "id": "f164c306-27e2-4fca-9aba-ad50c8dae2bb",
   "metadata": {},
   "outputs": [
    {
     "name": "stdout",
     "output_type": "stream",
     "text": [
      "x factorial of x\n",
      "1 factorial is: 1\n",
      "2 factorial is: 2\n",
      "3 factorial is: 6\n",
      "4 factorial is: 24\n",
      "5 factorial is: 120\n"
     ]
    }
   ],
   "source": [
    "#task 2\n",
    "n = 5\n",
    "i=1\n",
    "factorial = 1\n",
    "print(\"x factorial of x\")\n",
    "if n>=1:\n",
    "    for i in range(1,n+1):\n",
    "        factorial = factorial*i\n",
    "        print(i,\"factorial is:\",factorial)\n",
    "        i+=1"
   ]
  },
  {
   "cell_type": "code",
   "execution_count": 2,
   "id": "bbb27b08-fda8-4e88-bf26-45e705ca8a7f",
   "metadata": {},
   "outputs": [
    {
     "name": "stdout",
     "output_type": "stream",
     "text": [
      "I have chosen a number between 1 and 10. Try to guess it.\n"
     ]
    },
    {
     "name": "stdin",
     "output_type": "stream",
     "text": [
      "Guess:  6\n",
      "Guess:  7\n",
      "Guess:  8\n"
     ]
    },
    {
     "name": "stdout",
     "output_type": "stream",
     "text": [
      "That's right! You guessed it\n"
     ]
    }
   ],
   "source": [
    "#task3\n",
    "rand=8\n",
    "guess=11\n",
    "print ('I chosen a number between 1 and 10. Try to guess it.')\n",
    "while guess!=rand:\n",
    "    guess=int (input ('Guess: '))\n",
    "if guess==rand:\n",
    "    print (\"That's right! You guessed it\")\n",
    "else:\n",
    "    print (\"That is incorrect. Guess again.\")\n"
   ]
  },
  {
   "cell_type": "code",
   "execution_count": 3,
   "id": "041de43c-5263-4279-aea4-a0f5887bc098",
   "metadata": {},
   "outputs": [
    {
     "name": "stdin",
     "output_type": "stream",
     "text": [
      "enter a integer: 600\n",
      "enter a integer: 700\n"
     ]
    },
    {
     "name": "stdout",
     "output_type": "stream",
     "text": [
      "The GCD of given number 600 and 700 is 600\n",
      "The GCD of given number 600 and 700 is 100\n"
     ]
    }
   ],
   "source": [
    "#task4\n",
    "num1 = int(input(\"enter a integer:\"))\n",
    "num2 = int(input(\"enter a integer:\"))\n",
    "if num1<num2:\n",
    "    small, large=num1, num2 \n",
    "elif num1>num2:\n",
    "    small, large=num2, num1\n",
    "while small!=0:\n",
    "    r=large%small\n",
    "    large, small=small, r\n",
    "    print ('The GCD of given number' ,num1, 'and',num2, 'is',large)\n"
   ]
  },
  {
   "cell_type": "code",
   "execution_count": 1,
   "id": "7253a622-598a-4d6c-9172-d5d6df68fc0e",
   "metadata": {},
   "outputs": [
    {
     "name": "stdin",
     "output_type": "stream",
     "text": [
      "Enter the number:  10\n"
     ]
    },
    {
     "name": "stdout",
     "output_type": "stream",
     "text": [
      "10 is not prime\n"
     ]
    }
   ],
   "source": [
    "#task 5\n",
    "n=int (input ('Enter the number: '))\n",
    "i=2\n",
    "prime=True\n",
    "while i<n:\n",
    "    if n%i==0:\n",
    "        prime = False\n",
    "        break\n",
    "        i+=1\n",
    "if prime:\n",
    "    print(n,\"is prime\")\n",
    "else:\n",
    "    print(n,\"is not prime\")"
   ]
  },
  {
   "cell_type": "code",
   "execution_count": 12,
   "id": "c52c01e6-2a96-4940-860b-1c8b92d7e194",
   "metadata": {},
   "outputs": [
    {
     "name": "stdout",
     "output_type": "stream",
     "text": [
      "All prime numbers between 1 and 10000 are\n",
      "2  3  5  7  11  13  17  19  23  29  31  37  41  43  47  53  59  61  67  71  73  79  83  89  97  101  103  107  109  113  127  131  137  139  149  151  157  163  167  173  179  181  191  193  197  199  211  223  227  229  233  239  241  251  257  263  269  271  277  281  283  293  307  311  313  317  331  337  347  349  353  359  367  373  379  383  389  397  401  409  419  421  431  433  439  443  449  457  461  463  467  479  487  491  499  503  509  521  523  541  547  557  563  569  571  577  587  593  599  601  607  613  617  619  631  641  643  647  653  659  661  673  677  683  691  701  709  719  727  733  739  743  751  757  761  769  773  787  797  809  811  821  823  827  829  839  853  857  859  863  877  881  883  887  907  911  919  929  937  941  947  953  967  971  977  983  991  997  1009  1013  1019  1021  1031  1033  1039  1049  1051  1061  1063  1069  1087  1091  1093  1097  1103  1109  1117  1123  1129  1151  1153  1163  1171  1181  1187  1193  1201  1213  1217  1223  1229  1231  1237  1249  1259  1277  1279  1283  1289  1291  1297  1301  1303  1307  1319  1321  1327  1361  1367  1373  1381  1399  1409  1423  1427  1429  1433  1439  1447  1451  1453  1459  1471  1481  1483  1487  1489  1493  1499  1511  1523  1531  1543  1549  1553  1559  1567  1571  1579  1583  1597  1601  1607  1609  1613  1619  1621  1627  1637  1657  1663  1667  1669  1693  1697  1699  1709  1721  1723  1733  1741  1747  1753  1759  1777  1783  1787  1789  1801  1811  1823  1831  1847  1861  1867  1871  1873  1877  1879  1889  1901  1907  1913  1931  1933  1949  1951  1973  1979  1987  1993  1997  1999  2003  2011  2017  2027  2029  2039  2053  2063  2069  2081  2083  2087  2089  2099  2111  2113  2129  2131  2137  2141  2143  2153  2161  2179  2203  2207  2213  2221  2237  2239  2243  2251  2267  2269  2273  2281  2287  2293  2297  2309  2311  2333  2339  2341  2347  2351  2357  2371  2377  2381  2383  2389  2393  2399  2411  2417  2423  2437  2441  2447  2459  2467  2473  2477  2503  2521  2531  2539  2543  2549  2551  2557  2579  2591  2593  2609  2617  2621  2633  2647  2657  2659  2663  2671  2677  2683  2687  2689  2693  2699  2707  2711  2713  2719  2729  2731  2741  2749  2753  2767  2777  2789  2791  2797  2801  2803  2819  2833  2837  2843  2851  2857  2861  2879  2887  2897  2903  2909  2917  2927  2939  2953  2957  2963  2969  2971  2999  3001  3011  3019  3023  3037  3041  3049  3061  3067  3079  3083  3089  3109  3119  3121  3137  3163  3167  3169  3181  3187  3191  3203  3209  3217  3221  3229  3251  3253  3257  3259  3271  3299  3301  3307  3313  3319  3323  3329  3331  3343  3347  3359  3361  3371  3373  3389  3391  3407  3413  3433  3449  3457  3461  3463  3467  3469  3491  3499  3511  3517  3527  3529  3533  3539  3541  3547  3557  3559  3571  3581  3583  3593  3607  3613  3617  3623  3631  3637  3643  3659  3671  3673  3677  3691  3697  3701  3709  3719  3727  3733  3739  3761  3767  3769  3779  3793  3797  3803  3821  3823  3833  3847  3851  3853  3863  3877  3881  3889  3907  3911  3917  3919  3923  3929  3931  3943  3947  3967  3989  4001  4003  4007  4013  4019  4021  4027  4049  4051  4057  4073  4079  4091  4093  4099  4111  4127  4129  4133  4139  4153  4157  4159  4177  4201  4211  4217  4219  4229  4231  4241  4243  4253  4259  4261  4271  4273  4283  4289  4297  4327  4337  4339  4349  4357  4363  4373  4391  4397  4409  4421  4423  4441  4447  4451  4457  4463  4481  4483  4493  4507  4513  4517  4519  4523  4547  4549  4561  4567  4583  4591  4597  4603  4621  4637  4639  4643  4649  4651  4657  4663  4673  4679  4691  4703  4721  4723  4729  4733  4751  4759  4783  4787  4789  4793  4799  4801  4813  4817  4831  4861  4871  4877  4889  4903  4909  4919  4931  4933  4937  4943  4951  4957  4967  4969  4973  4987  4993  4999  5003  5009  5011  5021  5023  5039  5051  5059  5077  5081  5087  5099  5101  5107  5113  5119  5147  5153  5167  5171  5179  5189  5197  5209  5227  5231  5233  5237  5261  5273  5279  5281  5297  5303  5309  5323  5333  5347  5351  5381  5387  5393  5399  5407  5413  5417  5419  5431  5437  5441  5443  5449  5471  5477  5479  5483  5501  5503  5507  5519  5521  5527  5531  5557  5563  5569  5573  5581  5591  5623  5639  5641  5647  5651  5653  5657  5659  5669  5683  5689  5693  5701  5711  5717  5737  5741  5743  5749  5779  5783  5791  5801  5807  5813  5821  5827  5839  5843  5849  5851  5857  5861  5867  5869  5879  5881  5897  5903  5923  5927  5939  5953  5981  5987  6007  6011  6029  6037  6043  6047  6053  6067  6073  6079  6089  6091  6101  6113  6121  6131  6133  6143  6151  6163  6173  6197  6199  6203  6211  6217  6221  6229  6247  6257  6263  6269  6271  6277  6287  6299  6301  6311  6317  6323  6329  6337  6343  6353  6359  6361  6367  6373  6379  6389  6397  6421  6427  6449  6451  6469  6473  6481  6491  6521  6529  6547  6551  6553  6563  6569  6571  6577  6581  6599  6607  6619  6637  6653  6659  6661  6673  6679  6689  6691  6701  6703  6709  6719  6733  6737  6761  6763  6779  6781  6791  6793  6803  6823  6827  6829  6833  6841  6857  6863  6869  6871  6883  6899  6907  6911  6917  6947  6949  6959  6961  6967  6971  6977  6983  6991  6997  7001  7013  7019  7027  7039  7043  7057  7069  7079  7103  7109  7121  7127  7129  7151  7159  7177  7187  7193  7207  7211  7213  7219  7229  7237  7243  7247  7253  7283  7297  7307  7309  7321  7331  7333  7349  7351  7369  7393  7411  7417  7433  7451  7457  7459  7477  7481  7487  7489  7499  7507  7517  7523  7529  7537  7541  7547  7549  7559  7561  7573  7577  7583  7589  7591  7603  7607  7621  7639  7643  7649  7669  7673  7681  7687  7691  7699  7703  7717  7723  7727  7741  7753  7757  7759  7789  7793  7817  7823  7829  7841  7853  7867  7873  7877  7879  7883  7901  7907  7919  7927  7933  7937  7949  7951  7963  7993  8009  8011  8017  8039  8053  8059  8069  8081  8087  8089  8093  8101  8111  8117  8123  8147  8161  8167  8171  8179  8191  8209  8219  8221  8231  8233  8237  8243  8263  8269  8273  8287  8291  8293  8297  8311  8317  8329  8353  8363  8369  8377  8387  8389  8419  8423  8429  8431  8443  8447  8461  8467  8501  8513  8521  8527  8537  8539  8543  8563  8573  8581  8597  8599  8609  8623  8627  8629  8641  8647  8663  8669  8677  8681  8689  8693  8699  8707  8713  8719  8731  8737  8741  8747  8753  8761  8779  8783  8803  8807  8819  8821  8831  8837  8839  8849  8861  8863  8867  8887  8893  8923  8929  8933  8941  8951  8963  8969  8971  8999  9001  9007  9011  9013  9029  9041  9043  9049  9059  9067  9091  9103  9109  9127  9133  9137  9151  9157  9161  9173  9181  9187  9199  9203  9209  9221  9227  9239  9241  9257  9277  9281  9283  9293  9311  9319  9323  9337  9341  9343  9349  9371  9377  9391  9397  9403  9413  9419  9421  9431  9433  9437  9439  9461  9463  9467  9473  9479  9491  9497  9511  9521  9533  9539  9547  9551  9587  9601  9613  9619  9623  9629  9631  9643  9649  9661  9677  9679  9689  9697  9719  9721  9733  9739  9743  9749  9767  9769  9781  9787  9791  9803  9811  9817  9829  9833  9839  9851  9857  9859  9871  9883  9887  9901  9907  9923  9929  9931  9941  9949  9967  9973  \n"
     ]
    }
   ],
   "source": [
    "#task5 (b)\n",
    "n=1\n",
    "num=1\n",
    "pr='All prime numbers between 1 and 10000 are\\n'\n",
    "while(num<10000):\n",
    "    num+=1\n",
    "    prime=True\n",
    "    i=2\n",
    "    while i<num:\n",
    "        if num%i==0:\n",
    "            prime=False\n",
    "            break\n",
    "        i+=1\n",
    "    if prime:\n",
    "           pr=pr+str(num)+ '  '\n",
    "print(pr)"
   ]
  },
  {
   "cell_type": "code",
   "execution_count": 3,
   "id": "2d2c6708-0843-41bc-8b9d-a00d0707c97f",
   "metadata": {},
   "outputs": [
    {
     "name": "stdout",
     "output_type": "stream",
     "text": [
      "all armstrong number having four digit are:\n",
      "1634\n",
      "8208\n",
      "9474\n"
     ]
    }
   ],
   "source": [
    "#task 6\n",
    "n = 1000\n",
    "print(\"all armstrong number having four digit are:\")\n",
    "while n<10000:\n",
    "    p1=n%10\n",
    "    p2=(n%100)//10\n",
    "    p3=(n%1000)//100\n",
    "    p4=n//1000\n",
    "    if p1**4+p2**4+p3**4+p4**4==n:\n",
    "        print(n)\n",
    "    n+=1\n",
    "    "
   ]
  },
  {
   "cell_type": "code",
   "execution_count": 4,
   "id": "2dc1c303-c79d-45ad-87bc-1e0f18b0cf40",
   "metadata": {},
   "outputs": [
    {
     "name": "stdout",
     "output_type": "stream",
     "text": [
      "1 IQRA ALI\n",
      "2 IQRA ALI\n",
      "3 IQRA ALI\n",
      "4 IQRA ALI\n",
      "5 IQRA ALI\n",
      "6 IQRA ALI\n",
      "7 IQRA ALI\n",
      "8 IQRA ALI\n",
      "9 IQRA ALI\n",
      "10 IQRA ALI\n",
      "11 IQRA ALI\n",
      "12 IQRA ALI\n",
      "13 IQRA ALI\n",
      "14 IQRA ALI\n",
      "15 IQRA ALI\n",
      "16 IQRA ALI\n",
      "17 IQRA ALI\n",
      "18 IQRA ALI\n",
      "19 IQRA ALI\n",
      "20 IQRA ALI\n",
      "21 IQRA ALI\n",
      "22 IQRA ALI\n",
      "23 IQRA ALI\n",
      "24 IQRA ALI\n",
      "25 IQRA ALI\n",
      "26 IQRA ALI\n",
      "27 IQRA ALI\n",
      "28 IQRA ALI\n",
      "29 IQRA ALI\n",
      "30 IQRA ALI\n",
      "31 IQRA ALI\n",
      "32 IQRA ALI\n",
      "33 IQRA ALI\n",
      "34 IQRA ALI\n",
      "35 IQRA ALI\n",
      "36 IQRA ALI\n",
      "37 IQRA ALI\n",
      "38 IQRA ALI\n",
      "39 IQRA ALI\n",
      "40 IQRA ALI\n",
      "41 IQRA ALI\n",
      "42 IQRA ALI\n",
      "43 IQRA ALI\n",
      "44 IQRA ALI\n",
      "45 IQRA ALI\n",
      "46 IQRA ALI\n",
      "47 IQRA ALI\n",
      "48 IQRA ALI\n",
      "49 IQRA ALI\n",
      "50 IQRA ALI\n",
      "51 IQRA ALI\n",
      "52 IQRA ALI\n",
      "53 IQRA ALI\n",
      "54 IQRA ALI\n",
      "55 IQRA ALI\n",
      "56 IQRA ALI\n",
      "57 IQRA ALI\n",
      "58 IQRA ALI\n",
      "59 IQRA ALI\n",
      "60 IQRA ALI\n",
      "61 IQRA ALI\n",
      "62 IQRA ALI\n",
      "63 IQRA ALI\n",
      "64 IQRA ALI\n",
      "65 IQRA ALI\n",
      "66 IQRA ALI\n",
      "67 IQRA ALI\n",
      "68 IQRA ALI\n",
      "69 IQRA ALI\n",
      "70 IQRA ALI\n",
      "71 IQRA ALI\n",
      "72 IQRA ALI\n",
      "73 IQRA ALI\n",
      "74 IQRA ALI\n",
      "75 IQRA ALI\n",
      "76 IQRA ALI\n",
      "77 IQRA ALI\n",
      "78 IQRA ALI\n",
      "79 IQRA ALI\n",
      "80 IQRA ALI\n",
      "81 IQRA ALI\n",
      "82 IQRA ALI\n",
      "83 IQRA ALI\n",
      "84 IQRA ALI\n",
      "85 IQRA ALI\n",
      "86 IQRA ALI\n",
      "87 IQRA ALI\n",
      "88 IQRA ALI\n",
      "89 IQRA ALI\n",
      "90 IQRA ALI\n",
      "91 IQRA ALI\n",
      "92 IQRA ALI\n",
      "93 IQRA ALI\n",
      "94 IQRA ALI\n",
      "95 IQRA ALI\n",
      "96 IQRA ALI\n",
      "97 IQRA ALI\n",
      "98 IQRA ALI\n",
      "99 IQRA ALI\n",
      "100 IQRA ALI\n"
     ]
    }
   ],
   "source": [
    "#task 7\n",
    "for i in  range(1,101):\n",
    "    print(i,\"IQRA ALI\")\n",
    "    \n"
   ]
  },
  {
   "cell_type": "code",
   "execution_count": 4,
   "id": "818fdf41-bdcd-4c83-99a8-fad904acb2f4",
   "metadata": {},
   "outputs": [
    {
     "name": "stdout",
     "output_type": "stream",
     "text": [
      "1 ___ 1\n",
      "2 ___ 4\n",
      "3 ___ 9\n",
      "4 ___ 16\n",
      "5 ___ 25\n",
      "6 ___ 36\n",
      "7 ___ 49\n",
      "8 ___ 64\n",
      "9 ___ 81\n",
      "10 ___ 100\n",
      "11 ___ 121\n",
      "12 ___ 144\n",
      "13 ___ 169\n",
      "14 ___ 196\n",
      "15 ___ 225\n",
      "16 ___ 256\n",
      "17 ___ 289\n",
      "18 ___ 324\n",
      "19 ___ 361\n",
      "20 ___ 400\n"
     ]
    }
   ],
   "source": [
    "#task 8\n",
    "for i in range(1,21):\n",
    "    print(i,'___',i**2)"
   ]
  },
  {
   "cell_type": "code",
   "execution_count": 7,
   "id": "5a090937-d5b9-42e6-a5d2-bc6ed6eba5a4",
   "metadata": {},
   "outputs": [
    {
     "name": "stdout",
     "output_type": "stream",
     "text": [
      "8,11,14,17,20,23,26,29,32,35,38,41,44,47,50,53,56,59,62,65,68,71,74,77,80,83,86,89,"
     ]
    }
   ],
   "source": [
    "#task 9\n",
    "for i in range(8,90,3):\n",
    "    print(i,end=',')\n",
    "    "
   ]
  },
  {
   "cell_type": "code",
   "execution_count": 9,
   "id": "0d312db5-9741-4a5b-89f8-42231e9347b2",
   "metadata": {},
   "outputs": [
    {
     "name": "stdin",
     "output_type": "stream",
     "text": [
      "enter your name Iqra Ali\n",
      "enter how many times you want to enter 10\n"
     ]
    },
    {
     "name": "stdout",
     "output_type": "stream",
     "text": [
      "Iqra Ali\n",
      "Iqra Ali\n",
      "Iqra Ali\n",
      "Iqra Ali\n",
      "Iqra Ali\n",
      "Iqra Ali\n",
      "Iqra Ali\n",
      "Iqra Ali\n",
      "Iqra Ali\n",
      "Iqra Ali\n"
     ]
    }
   ],
   "source": [
    "#task 10\n",
    "name = input(\"enter your name\")\n",
    "n = int(input(\"enter how many times you want to enter\"))\n",
    "for i in range(n):\n",
    "    print(name)"
   ]
  },
  {
   "cell_type": "code",
   "execution_count": 10,
   "id": "ee9f32f5-b14d-473a-9db3-eed4a6da47aa",
   "metadata": {},
   "outputs": [
    {
     "name": "stdin",
     "output_type": "stream",
     "text": [
      "enter width 5\n",
      "enter height 5\n"
     ]
    },
    {
     "name": "stdout",
     "output_type": "stream",
     "text": [
      "*****\n",
      "*****\n",
      "*****\n",
      "*****\n",
      "*****\n"
     ]
    }
   ],
   "source": [
    "#task 11\n",
    "w=int(input(\"enter width\"))\n",
    "h=int(input(\"enter height\"))\n",
    "for i in range(h):\n",
    "    print(\"*\"*w)\n"
   ]
  },
  {
   "cell_type": "code",
   "execution_count": null,
   "id": "e0f03c6b-1309-485f-961d-daf4b3a77655",
   "metadata": {},
   "outputs": [],
   "source": []
  },
  {
   "cell_type": "code",
   "execution_count": null,
   "id": "16fe77a9-c10b-4169-a465-d91835fe973e",
   "metadata": {},
   "outputs": [],
   "source": []
  },
  {
   "cell_type": "code",
   "execution_count": null,
   "id": "2f6b111b-2d22-495f-857d-6520772b0535",
   "metadata": {},
   "outputs": [],
   "source": []
  },
  {
   "cell_type": "code",
   "execution_count": null,
   "id": "dc7355a7-223f-4dc8-af6d-7b1c5fc4d6de",
   "metadata": {},
   "outputs": [],
   "source": []
  },
  {
   "cell_type": "code",
   "execution_count": null,
   "id": "8e4690bd-9be8-427f-a0cf-5fda074bf952",
   "metadata": {},
   "outputs": [],
   "source": []
  },
  {
   "cell_type": "code",
   "execution_count": 12,
   "id": "383e5ffb-c373-41fc-9613-1742e74973aa",
   "metadata": {},
   "outputs": [
    {
     "name": "stdin",
     "output_type": "stream",
     "text": [
      "enter a number 6\n"
     ]
    },
    {
     "name": "stdout",
     "output_type": "stream",
     "text": [
      "*\n",
      "**\n",
      "***\n",
      "****\n",
      "*****\n"
     ]
    }
   ],
   "source": [
    "#task 12\n",
    "height = int(input(\"enter a number\"))\n",
    "for i in range(h):\n",
    "    print(\"*\"*(i+1))"
   ]
  },
  {
   "cell_type": "code",
   "execution_count": 2,
   "id": "39249f85-7e31-49f1-b66f-6573b9515dbe",
   "metadata": {},
   "outputs": [
    {
     "name": "stdin",
     "output_type": "stream",
     "text": [
      "enter height (must be odd): 7\n"
     ]
    },
    {
     "name": "stdout",
     "output_type": "stream",
     "text": [
      "    *\n",
      "   ***\n",
      "  *****\n",
      " *******\n",
      "  *****\n",
      "   ***\n",
      "    *\n",
      "     \n"
     ]
    }
   ],
   "source": [
    "#task 13\n",
    "height= int(input('enter height (must be odd):'))\n",
    "n=height//2+1\n",
    "for i in range(n):\n",
    "    print(' '*(n-i-1),end=' ')\n",
    "    print('*'*(2*i+1))\n",
    "for j in range(n):\n",
    "    print(' '*(j+1),end=' ')\n",
    "    print('*'*(2*(i-j)-1))"
   ]
  },
  {
   "cell_type": "code",
   "execution_count": 14,
   "id": "267492c0-135a-4348-8596-c0888298e610",
   "metadata": {},
   "outputs": [
    {
     "name": "stdin",
     "output_type": "stream",
     "text": [
      "enter height 7\n"
     ]
    },
    {
     "name": "stdout",
     "output_type": "stream",
     "text": [
      "        *\n",
      "       *   *\n",
      "      *     *\n",
      "     *       *\n",
      "    *********\n",
      "   *           *\n",
      "  *             *\n"
     ]
    }
   ],
   "source": [
    "#task 14\n",
    "height= int(input(\"enter height\"))\n",
    "n=height+1\n",
    "for i in range(1,n):\n",
    "    space = i-2\n",
    "    if space>0 and i!=n//2+1:\n",
    "        print(' '*(n-i),end=' ')\n",
    "        print('*',' '*(2*space+1),'*',sep=' ')\n",
    "    elif space==0 and i!=n//2+1:\n",
    "        print(' '*(n-i),end=' ')\n",
    "        print('*',' ','*',sep=' ')\n",
    "    elif i==n//2+1:\n",
    "        print(' '*(n-i),end=' ')\n",
    "        print('*'*(2*i-1))\n",
    "    else:\n",
    "        print(' '*(n-i),end=' ')\n",
    "        print('*')"
   ]
  },
  {
   "cell_type": "code",
   "execution_count": null,
   "id": "efa4337e-8033-4361-a7d4-081f533b1f90",
   "metadata": {},
   "outputs": [],
   "source": []
  }
 ],
 "metadata": {
  "kernelspec": {
   "display_name": "Python 3 (ipykernel)",
   "language": "python",
   "name": "python3"
  },
  "language_info": {
   "codemirror_mode": {
    "name": "ipython",
    "version": 3
   },
   "file_extension": ".py",
   "mimetype": "text/x-python",
   "name": "python",
   "nbconvert_exporter": "python",
   "pygments_lexer": "ipython3",
   "version": "3.12.4"
  }
 },
 "nbformat": 4,
 "nbformat_minor": 5
}
