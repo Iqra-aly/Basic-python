{
 "cells": [
  {
   "cell_type": "code",
   "execution_count": 16,
   "id": "b41b0c39-d2b1-4396-beae-f76a6f9e6139",
   "metadata": {},
   "outputs": [
    {
     "name": "stdin",
     "output_type": "stream",
     "text": [
      "enter a number 4\n",
      "enter a number 7\n",
      "enter a number 0\n"
     ]
    },
    {
     "name": "stdout",
     "output_type": "stream",
     "text": [
      "minimum is 0\n",
      "maximum is 7\n"
     ]
    }
   ],
   "source": [
    "inp1=int(input(\"enter a number\"))\n",
    "inp2=int (input(\"enter a number\"))\n",
    "inp3=int (input(\"enter a number\"))\n",
    "\n",
    "if(inp1<inp2 and inp1<inp3):\n",
    "    print(\"minimum is\",inp1)\n",
    "\n",
    "elif(inp2<inp1 and inp2<inp3):\n",
    "    print(\"minimum is\",inp2)\n",
    "\n",
    "elif(inp3<inp1 and inp3<inp2):\n",
    "    print(\"minimum is\",inp3)\n",
    "else:\n",
    "    print (\"sorry\")\n",
    "\n",
    "    \n",
    "if(inp1>inp2 and inp1>inp3):\n",
    "          print(\"maximum is\",inp1)\n",
    "  \n",
    "elif(inp2>inp1 and inp2>inp3):\n",
    "    print(\"maximum is\",inp2)\n",
    "\n",
    "elif(inp3>inp1 and inp3>inp2):\n",
    "    print(\"maximum is\",inp3)\n",
    "else:\n",
    "    print(\"sorry\")\n",
    "\n",
    "    \n",
    "\n"
   ]
  },
  {
   "cell_type": "code",
   "execution_count": 9,
   "id": "e082593b-6225-4191-bac6-b3784a8bff90",
   "metadata": {},
   "outputs": [
    {
     "name": "stdout",
     "output_type": "stream",
     "text": [
      "7 --- 14 --- 21 --- 28 ---\n"
     ]
    }
   ],
   "source": [
    "x=7\n",
    "print(x,\"---\",2*x,\"---\",3*x,\"---\",4*x,\"---\")"
   ]
  },
  {
   "cell_type": "code",
   "execution_count": 18,
   "id": "3e80297b-615c-414d-8a05-c183b81833a5",
   "metadata": {},
   "outputs": [
    {
     "name": "stdin",
     "output_type": "stream",
     "text": [
      "enter a nuber from 1 to 10 9\n"
     ]
    },
    {
     "name": "stdout",
     "output_type": "stream",
     "text": [
      "square is 81\n",
      "cube is 729\n"
     ]
    }
   ],
   "source": [
    "number_1=int(input(\"enter a nuber from 1 to 10\"))\n",
    "print(\"square is\",number_1**2)\n",
    "print(\"cube is\",number_1**3)\n",
    "             "
   ]
  },
  {
   "cell_type": "code",
   "execution_count": 33,
   "id": "e989be20-f514-48e1-a515-b34be636de72",
   "metadata": {},
   "outputs": [
    {
     "name": "stdout",
     "output_type": "stream",
     "text": [
      "6\n",
      "20.0\n",
      "4.5\n",
      "-4.5\n",
      "-5\n",
      "1\n",
      "1.0\n",
      "1.0\n",
      "-1\n",
      "1\n",
      "-4.5\n",
      "19\n",
      "35\n"
     ]
    }
   ],
   "source": [
    "a = 9 - 3\n",
    "print(a)\n",
    "b =\t8 * 2.5\n",
    "print(b)\n",
    "c = 9 / 2\n",
    "print(c)\n",
    "d\t=9 / -2\n",
    "print(d)\n",
    "e =\t9 // -2\n",
    "print(e)\n",
    "f =\t9 % 2\n",
    "print(f)\n",
    "g =\t9.0 % 2\n",
    "print(g)\n",
    "h =\t9 % 2.0\n",
    "print(h)\n",
    "i =\t9 % -2\n",
    "print(i)\n",
    "j =\t-9 % 2\n",
    "print(j)\n",
    "k =\t9 / -2.0\n",
    "print(k)\n",
    "l =\t4 + 3 * 5\n",
    "print(l)\n",
    "m =\t(4 + 3) * 5\n",
    "print(m)\n"
   ]
  },
  {
   "cell_type": "code",
   "execution_count": 30,
   "id": "c6eb836b-06c5-447d-ae7a-4155f6fb9d80",
   "metadata": {},
   "outputs": [
    {
     "name": "stdout",
     "output_type": "stream",
     "text": [
      "6 5\n"
     ]
    }
   ],
   "source": [
    "p,q = 5,6\n",
    "p = int(p*q)\n",
    "q = int(p/q)\n",
    "p = int(p/q)\n",
    "print(p,q)"
   ]
  },
  {
   "cell_type": "code",
   "execution_count": 2,
   "id": "2cd4984a-4bc1-4309-9392-1ff107293fac",
   "metadata": {},
   "outputs": [
    {
     "name": "stdin",
     "output_type": "stream",
     "text": [
      "enter number 1 80\n",
      "enter number 2 10\n"
     ]
    },
    {
     "name": "stdout",
     "output_type": "stream",
     "text": [
      "the sum is 90\n",
      "the multiplication is 800\n",
      "the division is  8.0\n",
      "the modulus is 0\n",
      "the difference is 70\n"
     ]
    }
   ],
   "source": [
    "input_1 =int(input(\"enter number 1\"))\n",
    "input_2 = int (input(\"enter number 2\"))\n",
    "print(\"the sum is\",input_1+input_2)\n",
    "print (\"the multiplication is\",input_1*input_2)\n",
    "print (\"the division is \",input_1/input_2)\n",
    "print(\"the modulus is\",input_1%input_2)\n",
    "print (\"the difference is\",input_1-input_2)"
   ]
  },
  {
   "cell_type": "code",
   "execution_count": 4,
   "id": "1b0d52de-e2e1-480b-b29e-3867b96e310d",
   "metadata": {},
   "outputs": [
    {
     "name": "stdin",
     "output_type": "stream",
     "text": [
      "enter a radius 10\n"
     ]
    },
    {
     "name": "stdout",
     "output_type": "stream",
     "text": [
      "the circumference is 62.800000000000004\n",
      "the diameter is  20\n",
      "the area is 314.0\n"
     ]
    }
   ],
   "source": [
    "radius = int(input(\"enter a radius\"))\n",
    "print(\"the circumference is\",2*3.14*radius)\n",
    "print(\"the diameter is \",radius*2)\n",
    "print(\"the area is\",3.14*radius**2)\n"
   ]
  },
  {
   "cell_type": "code",
   "execution_count": 19,
   "id": "b5a2ab2a-1e2c-4980-86e1-8b8436373a03",
   "metadata": {},
   "outputs": [
    {
     "name": "stdout",
     "output_type": "stream",
     "text": [
      "*********\n",
      "*       *\n",
      "*       *\n",
      "*       *\n",
      "*********\n"
     ]
    }
   ],
   "source": [
    "print(\"*********\")\n",
    "print(\"*       *\")\n",
    "print(\"*       *\")\n",
    "print(\"*       *\")\n",
    "print(\"*********\")\n"
   ]
  },
  {
   "cell_type": "code",
   "execution_count": 22,
   "id": "f7725258-8fe8-4439-852d-868da8b52a89",
   "metadata": {},
   "outputs": [
    {
     "name": "stdout",
     "output_type": "stream",
     "text": [
      "   *** \n",
      "*       *\n",
      "*       *\n",
      "*       *\n",
      "*       *\n",
      "   *** \n"
     ]
    }
   ],
   "source": [
    "print(\"   *** \")\n",
    "print(\"*       *\")\n",
    "print(\"*       *\")\n",
    "print(\"*       *\")\n",
    "print(\"*       *\")\n",
    "print(\"   *** \")"
   ]
  },
  {
   "cell_type": "code",
   "execution_count": 2,
   "id": "46c5d621-c50a-4a67-8ae4-5a5df5f28016",
   "metadata": {},
   "outputs": [
    {
     "name": "stdout",
     "output_type": "stream",
     "text": [
      "  *  \n",
      " *** \n",
      "*****\n",
      "  *  \n",
      "  *  \n",
      "  *  \n",
      "  *  \n",
      "  *  \n"
     ]
    }
   ],
   "source": [
    "print(\"  *  \")\n",
    "print(\" *** \")\n",
    "print(\"*****\")\n",
    "print(\"  *  \")\n",
    "print(\"  *  \")\n",
    "print(\"  *  \")\n",
    "print(\"  *  \")\n",
    "print(\"  *  \")"
   ]
  },
  {
   "cell_type": "code",
   "execution_count": null,
   "id": "323ad2af-9432-44ad-86d0-e552cc98bcd9",
   "metadata": {},
   "outputs": [],
   "source": []
  },
  {
   "cell_type": "code",
   "execution_count": 5,
   "id": "a0217f35-4e1b-46df-a50f-f8c4658def18",
   "metadata": {},
   "outputs": [
    {
     "name": "stdout",
     "output_type": "stream",
     "text": [
      "   *   \n",
      "  * * \n",
      " *   * \n",
      "*     * \n",
      " *   *  \n",
      "  * * \n",
      "   *  \n"
     ]
    }
   ],
   "source": [
    "print(\"   *   \" )\n",
    "print(\"  * * \")\n",
    "print(\" *   * \")\n",
    "print(\"*     * \")\n",
    "print(\" *   *  \")\n",
    "print(\"  * * \")\n",
    "print(\"   *  \")"
   ]
  },
  {
   "cell_type": "code",
   "execution_count": null,
   "id": "19726639-d4af-4f0a-930a-421144611a3a",
   "metadata": {},
   "outputs": [],
   "source": []
  },
  {
   "cell_type": "code",
   "execution_count": 5,
   "id": "f2514c7e-d53e-4fa4-be6d-fdafc1eca82e",
   "metadata": {},
   "outputs": [
    {
     "name": "stdout",
     "output_type": "stream",
     "text": [
      "HHHHHH\n",
      " HHHHH\n",
      "  HHHH\n",
      "   HHH\n",
      "     H\n"
     ]
    }
   ],
   "source": [
    "print(\"HHHHHH\")\n",
    "print(\" HHHHH\")\n",
    "print(\"  HHHH\")\n",
    "print(\"   HHH\")\n",
    "print(\"     H\")\n"
   ]
  },
  {
   "cell_type": "code",
   "execution_count": 9,
   "id": "b6413a17-c19f-4cb6-ab2a-c37a9a7a3304",
   "metadata": {},
   "outputs": [
    {
     "name": "stdin",
     "output_type": "stream",
     "text": [
      "enter a number 7\n"
     ]
    },
    {
     "name": "stdout",
     "output_type": "stream",
     "text": [
      "odd\n"
     ]
    }
   ],
   "source": [
    "number = int (input(\"enter a number\"))\n",
    "if(number%2==0):\n",
    "    print(\"even\")\n",
    "\n",
    "else:\n",
    "    print(\"odd\")\n",
    "\n"
   ]
  },
  {
   "cell_type": "code",
   "execution_count": 28,
   "id": "92a6f465-6792-4bc7-bcdc-e26dcec38f3c",
   "metadata": {},
   "outputs": [
    {
     "name": "stdin",
     "output_type": "stream",
     "text": [
      "enter a number 6\n",
      "enter a number 7\n",
      "enter anumber 8\n",
      "enter a number 8\n",
      "enter a number 9\n"
     ]
    },
    {
     "name": "stdout",
     "output_type": "stream",
     "text": [
      "largest is 9\n",
      "smalllest is  6\n"
     ]
    }
   ],
   "source": [
    "num1=int(input(\"enter a number\"))\n",
    "num2=int(input(\"enter a number\"))\n",
    "num3=int(input(\"enter anumber\"))\n",
    "num4=int(input(\"enter a number\"))\n",
    "num5= int(input(\"enter a number\"))\n",
    "if num1<num2 and num1<num3 and num1<num4 and num1<num5:\n",
    "    small=num1\n",
    "if num2<num1 and num2<num3 and num2<num4 and num2<num5:\n",
    "    small=num2\n",
    "if num3<num1 and num3<num2  and num3<num4 and num3<num5:\n",
    "    small=num3\n",
    "if num4<num1 and num4<num2 and num4<num3 and num4<num5:\n",
    "    small=num4\n",
    "if num5<num1 and num5<num2 and num5<num3 and num1<num4:\n",
    "    small=num5\n",
    "if num1>num2 and num1>num3 and num1>num4 and num1>num5:\n",
    "    large=num1\n",
    "if num2>num1 and num2>num3 and num2>num4 and num2>num5:\n",
    "    large=num2\n",
    "if num3>num1 and num3>num2 and num3>num4 and num3>num5:\n",
    "    large=num3\n",
    "if num4>num1 and num4>num2 and num4>num3 and num4>num5:\n",
    "    large=num4\n",
    "if num5>num1 and num5>num2 and num5>num3 and num5>num4:\n",
    "    large=num5\n",
    "print(\"largest is\",large)\n",
    "print(\"smalllest is \", small)\n",
    "\n",
    "\n"
   ]
  },
  {
   "cell_type": "code",
   "execution_count": 26,
   "id": "4f004e22-94ce-406f-ac5c-4de26a27f72b",
   "metadata": {},
   "outputs": [
    {
     "name": "stdin",
     "output_type": "stream",
     "text": [
      "enter a number 3\n",
      "enter a number 4\n",
      "enter a number 5\n"
     ]
    },
    {
     "name": "stdout",
     "output_type": "stream",
     "text": [
      "three integers are side of right triangle\n"
     ]
    }
   ],
   "source": [
    "num1=int(input(\"enter a number\"))\n",
    "num2= int(input(\"enter a number\"))\n",
    "num3= int(input(\"enter a number\"))\n",
    "if num1**2+num2**2==num3**2 or num2**2+num3**2==num1**2 or num1**2+num3**2==num2**2:\n",
    "    print(\"three integers are side of right triangle\")\n",
    "else:\n",
    "    print(\"three integers are not the side of right triangle\")"
   ]
  },
  {
   "cell_type": "code",
   "execution_count": null,
   "id": "67c4d39f-7f42-40a3-aa58-12198a409e87",
   "metadata": {},
   "outputs": [],
   "source": []
  },
  {
   "cell_type": "code",
   "execution_count": 20,
   "id": "f5dfa939-6fc6-41bb-a764-2b0cf73a038a",
   "metadata": {},
   "outputs": [
    {
     "name": "stdin",
     "output_type": "stream",
     "text": [
      "Enter your score:  0.9\n"
     ]
    },
    {
     "name": "stdout",
     "output_type": "stream",
     "text": [
      "a\n"
     ]
    }
   ],
   "source": [
    "marks=float (input (\"Enter your score: \"))\n",
    "if 1>marks>=0.9:\n",
    "    print(\"a\")\n",
    "elif 1>marks>=0.8:\n",
    "    print(\"b\")\n",
    "elif 1>marks>=0.7:\n",
    "    print(\"c\")\n",
    "elif 1>marks>=0.6:\n",
    "    print(\"d\")\n",
    "elif 1>marks<0.6:\n",
    "    print(\"f\")\n",
    "else:\n",
    "    print(\"bad score\")"
   ]
  },
  {
   "cell_type": "code",
   "execution_count": 16,
   "id": "f7ac5085-a583-4db8-9206-8275e4e8896d",
   "metadata": {},
   "outputs": [
    {
     "name": "stdin",
     "output_type": "stream",
     "text": [
      "Enter hour:  12\n",
      "am or pm?  am\n",
      "How many hours ahead?  5\n"
     ]
    },
    {
     "name": "stdout",
     "output_type": "stream",
     "text": [
      "5 am\n"
     ]
    }
   ],
   "source": [
    "#bonus\n",
    "clock=int (input (\"Enter hour: \")) \n",
    "m=input(\"am or pm? \")\n",
    "ahead=int (input (\"How many hours ahead? \"))\n",
    "a=clock+ahead\n",
    "hour=(a)%24\n",
    "if 0<hour<12:\n",
    "    print (hour, m)\n",
    "elif hour==0:\n",
    "    if m=='am':\n",
    "        print (12, 'pm' )   \n",
    "elif m=='pm' :\n",
    "    print (12, 'am')\n",
    "elif hour>12 and clock!=12:\n",
    "    if m=='am':\n",
    "        print (hour-12, 'pm' ) \n",
    "elif m=='pm' :\n",
    "    print (hour-12, 'am')\n",
    "else:\n",
    "    print (hour-12, m)"
   ]
  }
 ],
 "metadata": {
  "kernelspec": {
   "display_name": "Python 3 (ipykernel)",
   "language": "python",
   "name": "python3"
  },
  "language_info": {
   "codemirror_mode": {
    "name": "ipython",
    "version": 3
   },
   "file_extension": ".py",
   "mimetype": "text/x-python",
   "name": "python",
   "nbconvert_exporter": "python",
   "pygments_lexer": "ipython3",
   "version": "3.12.4"
  }
 },
 "nbformat": 4,
 "nbformat_minor": 5
}
